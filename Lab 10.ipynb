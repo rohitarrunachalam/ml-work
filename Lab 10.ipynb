{
 "cells": [
  {
   "cell_type": "code",
   "execution_count": 9,
   "metadata": {},
   "outputs": [],
   "source": [
    "import pandas as pd\n",
    "from itertools import combinations"
   ]
  },
  {
   "cell_type": "code",
   "execution_count": 10,
   "metadata": {},
   "outputs": [],
   "source": [
    "dataset = pd.read_csv('./data_10.csv', header=None)\n",
    "dataset = dataset.fillna(0)"
   ]
  },
  {
   "cell_type": "code",
   "execution_count": 11,
   "metadata": {},
   "outputs": [
    {
     "name": "stdout",
     "output_type": "stream",
     "text": [
      "<class 'pandas.core.frame.DataFrame'>\n",
      "RangeIndex: 7501 entries, 0 to 7500\n",
      "Data columns (total 20 columns):\n",
      " #   Column  Non-Null Count  Dtype \n",
      "---  ------  --------------  ----- \n",
      " 0   0       7501 non-null   object\n",
      " 1   1       7501 non-null   object\n",
      " 2   2       7501 non-null   object\n",
      " 3   3       7501 non-null   object\n",
      " 4   4       7501 non-null   object\n",
      " 5   5       7501 non-null   object\n",
      " 6   6       7501 non-null   object\n",
      " 7   7       7501 non-null   object\n",
      " 8   8       7501 non-null   object\n",
      " 9   9       7501 non-null   object\n",
      " 10  10      7501 non-null   object\n",
      " 11  11      7501 non-null   object\n",
      " 12  12      7501 non-null   object\n",
      " 13  13      7501 non-null   object\n",
      " 14  14      7501 non-null   object\n",
      " 15  15      7501 non-null   object\n",
      " 16  16      7501 non-null   object\n",
      " 17  17      7501 non-null   object\n",
      " 18  18      7501 non-null   object\n",
      " 19  19      7501 non-null   object\n",
      "dtypes: object(20)\n",
      "memory usage: 1.1+ MB\n"
     ]
    }
   ],
   "source": [
    "dataset.info()"
   ]
  },
  {
   "cell_type": "code",
   "execution_count": 12,
   "metadata": {},
   "outputs": [],
   "source": [
    "transactions = []\n",
    "for i in range(0, 1000):\n",
    "    transactions.append([str(dataset.values[i,j]) for j in range(0, 20)])"
   ]
  },
  {
   "cell_type": "code",
   "execution_count": 13,
   "metadata": {},
   "outputs": [],
   "source": [
    "def generate_candidates(prev_itemsets, k):\n",
    "    candidates = set()\n",
    "    for itemset1 in prev_itemsets:\n",
    "        for itemset2 in prev_itemsets:\n",
    "            if len(itemset1.union(itemset2)) == k:\n",
    "                candidate = itemset1.union(itemset2)\n",
    "                if candidate not in candidates:\n",
    "                    candidates.add(candidate)\n",
    "    return candidates\n",
    "\n",
    "def prune_itemsets(itemsets, prev_itemsets):\n",
    "    pruned_itemsets = []\n",
    "    for itemset in itemsets:\n",
    "        subsets = list(combinations(itemset, len(itemset) - 1))\n",
    "        if all(frozenset(subset) in prev_itemsets for subset in subsets):\n",
    "            pruned_itemsets.append(itemset)\n",
    "    return pruned_itemsets\n",
    "\n",
    "def apriori(transactions, min_support):\n",
    "    item_counts = {}\n",
    "    for transaction in transactions:\n",
    "        for item in transaction:\n",
    "            if item not in item_counts:\n",
    "                item_counts[item] = 0\n",
    "            item_counts[item] += 1\n",
    "\n",
    "    frequent_itemsets = [frozenset([item]) for item, count in item_counts.items() if count >= min_support]\n",
    "    frequent_itemsets = [itemset for itemset in frequent_itemsets]\n",
    "\n",
    "    all_frequent_itemsets = frequent_itemsets\n",
    "    k = 2\n",
    "    while frequent_itemsets:\n",
    "        candidates = generate_candidates(frequent_itemsets, k)\n",
    "        candidate_counts = {}\n",
    "        for transaction in transactions:\n",
    "            for candidate in candidates:\n",
    "                if candidate.issubset(transaction):\n",
    "                    if candidate not in candidate_counts:\n",
    "                        candidate_counts[candidate] = 0\n",
    "                    candidate_counts[candidate] += 1\n",
    "        frequent_itemsets = [itemset for itemset, count in candidate_counts.items() if count >= min_support]\n",
    "        frequent_itemsets = prune_itemsets(frequent_itemsets, all_frequent_itemsets)\n",
    "        all_frequent_itemsets += frequent_itemsets\n",
    "        k += 1\n",
    "\n",
    "    return all_frequent_itemsets"
   ]
  },
  {
   "cell_type": "code",
   "execution_count": 14,
   "metadata": {},
   "outputs": [
    {
     "name": "stdout",
     "output_type": "stream",
     "text": [
      "Frequent itemsets:\n",
      "frozenset({'green tea'})\n",
      "frozenset({'mineral water'})\n",
      "frozenset({'eggs'})\n",
      "frozenset({'0'})\n",
      "frozenset({'milk'})\n",
      "frozenset({'french fries'})\n",
      "frozenset({'spaghetti'})\n",
      "frozenset({'chocolate'})\n",
      "frozenset({'0', 'eggs'})\n",
      "frozenset({'mineral water', '0'})\n",
      "frozenset({'green tea', '0'})\n",
      "frozenset({'milk', '0'})\n",
      "frozenset({'french fries', '0'})\n",
      "frozenset({'spaghetti', '0'})\n",
      "frozenset({'chocolate', '0'})\n"
     ]
    }
   ],
   "source": [
    "min_support = 100\n",
    "frequent_itemsets = apriori(transactions, min_support)\n",
    "print(\"Frequent itemsets:\")\n",
    "for itemset in frequent_itemsets:\n",
    "    print(itemset)"
   ]
  },
  {
   "cell_type": "code",
   "execution_count": null,
   "metadata": {},
   "outputs": [],
   "source": []
  }
 ],
 "metadata": {
  "kernelspec": {
   "display_name": "Python 3 (ipykernel)",
   "language": "python",
   "name": "python3"
  },
  "language_info": {
   "codemirror_mode": {
    "name": "ipython",
    "version": 3
   },
   "file_extension": ".py",
   "mimetype": "text/x-python",
   "name": "python",
   "nbconvert_exporter": "python",
   "pygments_lexer": "ipython3",
   "version": "3.10.6"
  }
 },
 "nbformat": 4,
 "nbformat_minor": 2
}
