{
 "cells": [
  {
   "cell_type": "code",
   "execution_count": 12,
   "id": "23f5ebdd",
   "metadata": {},
   "outputs": [],
   "source": [
    "import pandas as pd\n",
    "import numpy as np"
   ]
  },
  {
   "cell_type": "code",
   "execution_count": 153,
   "id": "57fcd044",
   "metadata": {},
   "outputs": [
    {
     "data": {
      "text/plain": [
       "(1460, 81)"
      ]
     },
     "execution_count": 153,
     "metadata": {},
     "output_type": "execute_result"
    }
   ],
   "source": [
    "data=pd.read_csv('house_pred.csv')\n",
    "data.shape"
   ]
  },
  {
   "cell_type": "code",
   "execution_count": 154,
   "id": "7be88c12",
   "metadata": {},
   "outputs": [
    {
     "name": "stderr",
     "output_type": "stream",
     "text": [
      "C:\\Users\\harii\\AppData\\Local\\Temp\\ipykernel_10744\\3841190075.py:12: SettingWithCopyWarning: \n",
      "A value is trying to be set on a copy of a slice from a DataFrame\n",
      "\n",
      "See the caveats in the documentation: https://pandas.pydata.org/pandas-docs/stable/user_guide/indexing.html#returning-a-view-versus-a-copy\n",
      "  data1[col][(data1[col] < lower_bound) | (data1[col] > upper_bound)] = data1[col].median()\n"
     ]
    },
    {
     "data": {
      "text/plain": [
       "(1460, 81)"
      ]
     },
     "execution_count": 154,
     "metadata": {},
     "output_type": "execute_result"
    }
   ],
   "source": [
    "numerical_columns = data.select_dtypes(include=['float64', 'int64']).columns\n",
    "data1=data.copy()\n",
    "for col in numerical_columns:\n",
    "    \n",
    "    Q1 = data1[col].quantile(0.25)\n",
    "    Q3 = data1[col].quantile(0.75)\n",
    "    IQR = Q3 - Q1\n",
    "    lower_bound = Q1 - 1.5 * IQR\n",
    "    upper_bound = Q3 + 1.5 * IQR\n",
    "    data1[col][(data1[col] < lower_bound) | (data1[col] > upper_bound)] = data1[col].median()\n",
    "data1.shape\n"
   ]
  },
  {
   "cell_type": "code",
   "execution_count": 164,
   "id": "ba9f15eb",
   "metadata": {},
   "outputs": [
    {
     "data": {
      "text/plain": [
       "(1460, 76)"
      ]
     },
     "execution_count": 164,
     "metadata": {},
     "output_type": "execute_result"
    }
   ],
   "source": [
    "\n",
    "categorical_columns = data1.select_dtypes(include=['object']).columns\n",
    "column_null_counts = data1[categorical_columns].isnull().sum()\n",
    "sorted_columns = column_null_counts.sort_values(ascending=False)\n",
    "data2=data1.drop(columns=['PoolQC','MiscFeature','Alley','Fence','FireplaceQu'])\n",
    "categorical_columns = data2.select_dtypes(include=['object']).columns\n",
    "for col in categorical_columns:\n",
    "    mode_value = data2[col].mode()[0]\n",
    "    data2[col].fillna(mode_value, inplace=True)\n",
    "\n",
    "data2.shape\n",
    "# data2=data1.dropna(subset=categorical_columns, inplace=False)\n",
    "# data2.head()"
   ]
  },
  {
   "cell_type": "code",
   "execution_count": 67,
   "id": "c0eb2550",
   "metadata": {},
   "outputs": [
    {
     "data": {
      "text/plain": [
       "(1460, 76)"
      ]
     },
     "execution_count": 67,
     "metadata": {},
     "output_type": "execute_result"
    }
   ],
   "source": [
    "# categorical_columns = data2.select_dtypes(include=['object']).columns\n",
    "# data3=data2.dropna(subset=categorical_columns, inplace=False)\n",
    "# data3.shape"
   ]
  },
  {
   "cell_type": "code",
   "execution_count": 165,
   "id": "55c4248b",
   "metadata": {},
   "outputs": [
    {
     "name": "stdout",
     "output_type": "stream",
     "text": [
      "<class 'pandas.core.frame.DataFrame'>\n",
      "RangeIndex: 1460 entries, 0 to 1459\n",
      "Data columns (total 76 columns):\n",
      " #   Column         Non-Null Count  Dtype  \n",
      "---  ------         --------------  -----  \n",
      " 0   Id             1460 non-null   int64  \n",
      " 1   MSSubClass     1460 non-null   int64  \n",
      " 2   MSZoning       1460 non-null   object \n",
      " 3   LotFrontage    1460 non-null   float64\n",
      " 4   LotArea        1460 non-null   float64\n",
      " 5   Street         1460 non-null   object \n",
      " 6   LotShape       1460 non-null   object \n",
      " 7   LandContour    1460 non-null   object \n",
      " 8   Utilities      1460 non-null   object \n",
      " 9   LotConfig      1460 non-null   object \n",
      " 10  LandSlope      1460 non-null   object \n",
      " 11  Neighborhood   1460 non-null   object \n",
      " 12  Condition1     1460 non-null   object \n",
      " 13  Condition2     1460 non-null   object \n",
      " 14  BldgType       1460 non-null   object \n",
      " 15  HouseStyle     1460 non-null   object \n",
      " 16  OverallQual    1460 non-null   int64  \n",
      " 17  OverallCond    1460 non-null   int64  \n",
      " 18  YearBuilt      1460 non-null   int64  \n",
      " 19  YearRemodAdd   1460 non-null   int64  \n",
      " 20  RoofStyle      1460 non-null   object \n",
      " 21  RoofMatl       1460 non-null   object \n",
      " 22  Exterior1st    1460 non-null   object \n",
      " 23  Exterior2nd    1460 non-null   object \n",
      " 24  MasVnrType     1460 non-null   object \n",
      " 25  MasVnrArea     1460 non-null   float64\n",
      " 26  ExterQual      1460 non-null   object \n",
      " 27  ExterCond      1460 non-null   object \n",
      " 28  Foundation     1460 non-null   object \n",
      " 29  BsmtQual       1460 non-null   object \n",
      " 30  BsmtCond       1460 non-null   object \n",
      " 31  BsmtExposure   1460 non-null   object \n",
      " 32  BsmtFinType1   1460 non-null   object \n",
      " 33  BsmtFinSF1     1460 non-null   float64\n",
      " 34  BsmtFinType2   1460 non-null   object \n",
      " 35  BsmtFinSF2     1460 non-null   int64  \n",
      " 36  BsmtUnfSF      1460 non-null   float64\n",
      " 37  TotalBsmtSF    1460 non-null   float64\n",
      " 38  Heating        1460 non-null   object \n",
      " 39  HeatingQC      1460 non-null   object \n",
      " 40  CentralAir     1460 non-null   object \n",
      " 41  Electrical     1460 non-null   object \n",
      " 42  1stFlrSF       1460 non-null   int64  \n",
      " 43  2ndFlrSF       1460 non-null   int64  \n",
      " 44  LowQualFinSF   1460 non-null   int64  \n",
      " 45  GrLivArea      1460 non-null   int64  \n",
      " 46  BsmtFullBath   1460 non-null   int64  \n",
      " 47  BsmtHalfBath   1460 non-null   int64  \n",
      " 48  FullBath       1460 non-null   int64  \n",
      " 49  HalfBath       1460 non-null   int64  \n",
      " 50  BedroomAbvGr   1460 non-null   int64  \n",
      " 51  KitchenAbvGr   1460 non-null   int64  \n",
      " 52  KitchenQual    1460 non-null   object \n",
      " 53  TotRmsAbvGrd   1460 non-null   int64  \n",
      " 54  Functional     1460 non-null   object \n",
      " 55  Fireplaces     1460 non-null   int64  \n",
      " 56  GarageType     1460 non-null   object \n",
      " 57  GarageYrBlt    1460 non-null   float64\n",
      " 58  GarageFinish   1460 non-null   object \n",
      " 59  GarageCars     1460 non-null   int64  \n",
      " 60  GarageArea     1460 non-null   int64  \n",
      " 61  GarageQual     1460 non-null   object \n",
      " 62  GarageCond     1460 non-null   object \n",
      " 63  PavedDrive     1460 non-null   object \n",
      " 64  WoodDeckSF     1460 non-null   int64  \n",
      " 65  OpenPorchSF    1460 non-null   int64  \n",
      " 66  EnclosedPorch  1460 non-null   int64  \n",
      " 67  3SsnPorch      1460 non-null   int64  \n",
      " 68  ScreenPorch    1460 non-null   int64  \n",
      " 69  PoolArea       1460 non-null   int64  \n",
      " 70  MiscVal        1460 non-null   int64  \n",
      " 71  MoSold         1460 non-null   int64  \n",
      " 72  YrSold         1460 non-null   int64  \n",
      " 73  SaleType       1460 non-null   object \n",
      " 74  SaleCondition  1460 non-null   object \n",
      " 75  SalePrice      1460 non-null   int64  \n",
      "dtypes: float64(7), int64(31), object(38)\n",
      "memory usage: 867.0+ KB\n",
      "None\n"
     ]
    }
   ],
   "source": [
    "for col in numerical_columns:\n",
    "    mode_value = data3[col].mode()[0]\n",
    "    data3[col].fillna(mode_value, inplace=True)\n",
    "\n",
    "print(data3.info())"
   ]
  },
  {
   "cell_type": "code",
   "execution_count": 166,
   "id": "5c7ed3d3",
   "metadata": {},
   "outputs": [
    {
     "data": {
      "text/plain": [
       "(1460, 234)"
      ]
     },
     "execution_count": 166,
     "metadata": {},
     "output_type": "execute_result"
    }
   ],
   "source": [
    "categorical_columns = data3.select_dtypes(include=['object']).columns\n",
    "data4=pd.get_dummies(data3,columns=categorical_columns,drop_first=True)\n",
    "dependant_col='SalePrice'\n",
    "cols=[col for col in data4.columns if col != dependant_col]\n",
    "cols=cols+[dependant_col]\n",
    "data4=data4[cols]\n",
    "data4.shape"
   ]
  },
  {
   "cell_type": "code",
   "execution_count": 167,
   "id": "92319e1d",
   "metadata": {},
   "outputs": [
    {
     "data": {
      "text/plain": [
       "(1460, 233)"
      ]
     },
     "execution_count": 167,
     "metadata": {},
     "output_type": "execute_result"
    }
   ],
   "source": [
    "x_train = data4.iloc[:,:-1].values\n",
    "y_train = data4.iloc[:,-1].values\n",
    "x_train=pd.DataFrame(x_train)\n",
    "dependant_col='SalePrice'\n",
    "cols=[col for col in data4.columns if col != 'SalePrice']\n",
    "x_train.columns=cols\n",
    "x_train.shape"
   ]
  },
  {
   "cell_type": "code",
   "execution_count": 168,
   "id": "2232895e",
   "metadata": {},
   "outputs": [
    {
     "data": {
      "text/plain": [
       "(1460, 186)"
      ]
     },
     "execution_count": 168,
     "metadata": {},
     "output_type": "execute_result"
    }
   ],
   "source": [
    "correlation_matrix = x_train.corr()\n",
    "highly_correlated_vars = set()\n",
    "for i in range(len(correlation_matrix.columns)):\n",
    "    for j in range(i):\n",
    "        if abs(correlation_matrix.iloc[i, j]) > 0.6:\n",
    "            colname = correlation_matrix.columns[i]\n",
    "            highly_correlated_vars.add(colname)\n",
    "\n",
    "x_train = x_train.drop(columns=highly_correlated_vars)\n",
    "x_train.shape"
   ]
  },
  {
   "cell_type": "code",
   "execution_count": 169,
   "id": "c3bb5f4b",
   "metadata": {},
   "outputs": [
    {
     "name": "stderr",
     "output_type": "stream",
     "text": [
      "C:\\ProgramData\\Anaconda3\\lib\\site-packages\\statsmodels\\regression\\linear_model.py:1736: RuntimeWarning: invalid value encountered in scalar divide\n",
      "  return 1 - self.ssr/self.centered_tss\n"
     ]
    },
    {
     "data": {
      "text/html": [
       "<div>\n",
       "<style scoped>\n",
       "    .dataframe tbody tr th:only-of-type {\n",
       "        vertical-align: middle;\n",
       "    }\n",
       "\n",
       "    .dataframe tbody tr th {\n",
       "        vertical-align: top;\n",
       "    }\n",
       "\n",
       "    .dataframe thead th {\n",
       "        text-align: right;\n",
       "    }\n",
       "</style>\n",
       "<table border=\"1\" class=\"dataframe\">\n",
       "  <thead>\n",
       "    <tr style=\"text-align: right;\">\n",
       "      <th></th>\n",
       "      <th>variable</th>\n",
       "      <th>vif</th>\n",
       "    </tr>\n",
       "  </thead>\n",
       "  <tbody>\n",
       "    <tr>\n",
       "      <th>0</th>\n",
       "      <td>Id</td>\n",
       "      <td>1.143218</td>\n",
       "    </tr>\n",
       "    <tr>\n",
       "      <th>1</th>\n",
       "      <td>MSSubClass</td>\n",
       "      <td>4.383049</td>\n",
       "    </tr>\n",
       "    <tr>\n",
       "      <th>2</th>\n",
       "      <td>LotFrontage</td>\n",
       "      <td>2.047188</td>\n",
       "    </tr>\n",
       "    <tr>\n",
       "      <th>3</th>\n",
       "      <td>LotArea</td>\n",
       "      <td>2.803582</td>\n",
       "    </tr>\n",
       "    <tr>\n",
       "      <th>4</th>\n",
       "      <td>OverallQual</td>\n",
       "      <td>4.336001</td>\n",
       "    </tr>\n",
       "    <tr>\n",
       "      <th>...</th>\n",
       "      <td>...</td>\n",
       "      <td>...</td>\n",
       "    </tr>\n",
       "    <tr>\n",
       "      <th>181</th>\n",
       "      <td>SaleType_New</td>\n",
       "      <td>1.608956</td>\n",
       "    </tr>\n",
       "    <tr>\n",
       "      <th>182</th>\n",
       "      <td>SaleType_Oth</td>\n",
       "      <td>1.074175</td>\n",
       "    </tr>\n",
       "    <tr>\n",
       "      <th>183</th>\n",
       "      <td>SaleCondition_AdjLand</td>\n",
       "      <td>1.369542</td>\n",
       "    </tr>\n",
       "    <tr>\n",
       "      <th>184</th>\n",
       "      <td>SaleCondition_Alloca</td>\n",
       "      <td>1.373609</td>\n",
       "    </tr>\n",
       "    <tr>\n",
       "      <th>185</th>\n",
       "      <td>SaleCondition_Family</td>\n",
       "      <td>1.115829</td>\n",
       "    </tr>\n",
       "  </tbody>\n",
       "</table>\n",
       "<p>186 rows × 2 columns</p>\n",
       "</div>"
      ],
      "text/plain": [
       "                  variable       vif\n",
       "0                       Id  1.143218\n",
       "1               MSSubClass  4.383049\n",
       "2              LotFrontage  2.047188\n",
       "3                  LotArea  2.803582\n",
       "4              OverallQual  4.336001\n",
       "..                     ...       ...\n",
       "181           SaleType_New  1.608956\n",
       "182           SaleType_Oth  1.074175\n",
       "183  SaleCondition_AdjLand  1.369542\n",
       "184   SaleCondition_Alloca  1.373609\n",
       "185   SaleCondition_Family  1.115829\n",
       "\n",
       "[186 rows x 2 columns]"
      ]
     },
     "execution_count": 169,
     "metadata": {},
     "output_type": "execute_result"
    }
   ],
   "source": [
    "from statsmodels.stats.outliers_influence import \\\n",
    "variance_inflation_factor\n",
    "\n",
    "vif = pd.DataFrame()\n",
    "vif['variable']= x_train.columns\n",
    "\n",
    "vif['vif'] = [variance_inflation_factor(x_train.values,i)\n",
    " for i in range(x_train.shape[1])]\n",
    "\n",
    "vif"
   ]
  },
  {
   "cell_type": "code",
   "execution_count": 180,
   "id": "44663094",
   "metadata": {},
   "outputs": [
    {
     "data": {
      "text/plain": [
       "(256, 81)"
      ]
     },
     "execution_count": 180,
     "metadata": {},
     "output_type": "execute_result"
    }
   ],
   "source": [
    "data_train=pd.read_csv(\"test.csv\")\n",
    "data_price=pd.read_csv(\"house_pred.csv\")\n",
    "\n",
    "SalePrice=data_price['SalePrice'].iloc[-256:].tolist()\n",
    "data_train['SalePrice']=SalePrice\n",
    "data_train.shape"
   ]
  },
  {
   "cell_type": "code",
   "execution_count": 181,
   "id": "1620b4bf",
   "metadata": {},
   "outputs": [
    {
     "name": "stderr",
     "output_type": "stream",
     "text": [
      "C:\\Users\\harii\\AppData\\Local\\Temp\\ipykernel_10744\\3804933551.py:21: SettingWithCopyWarning: \n",
      "A value is trying to be set on a copy of a slice from a DataFrame\n",
      "\n",
      "See the caveats in the documentation: https://pandas.pydata.org/pandas-docs/stable/user_guide/indexing.html#returning-a-view-versus-a-copy\n",
      "  data_train1[col][(data_train1[col] < lower_bound) | (data_train1[col] > upper_bound)] = data1[col].mode()[0]\n",
      "C:\\Users\\harii\\AppData\\Local\\Temp\\ipykernel_10744\\3804933551.py:21: SettingWithCopyWarning: \n",
      "A value is trying to be set on a copy of a slice from a DataFrame\n",
      "\n",
      "See the caveats in the documentation: https://pandas.pydata.org/pandas-docs/stable/user_guide/indexing.html#returning-a-view-versus-a-copy\n",
      "  data_train1[col][(data_train1[col] < lower_bound) | (data_train1[col] > upper_bound)] = data1[col].mode()[0]\n",
      "C:\\Users\\harii\\AppData\\Local\\Temp\\ipykernel_10744\\3804933551.py:21: SettingWithCopyWarning: \n",
      "A value is trying to be set on a copy of a slice from a DataFrame\n",
      "\n",
      "See the caveats in the documentation: https://pandas.pydata.org/pandas-docs/stable/user_guide/indexing.html#returning-a-view-versus-a-copy\n",
      "  data_train1[col][(data_train1[col] < lower_bound) | (data_train1[col] > upper_bound)] = data1[col].mode()[0]\n",
      "C:\\Users\\harii\\AppData\\Local\\Temp\\ipykernel_10744\\3804933551.py:21: SettingWithCopyWarning: \n",
      "A value is trying to be set on a copy of a slice from a DataFrame\n",
      "\n",
      "See the caveats in the documentation: https://pandas.pydata.org/pandas-docs/stable/user_guide/indexing.html#returning-a-view-versus-a-copy\n",
      "  data_train1[col][(data_train1[col] < lower_bound) | (data_train1[col] > upper_bound)] = data1[col].mode()[0]\n",
      "C:\\Users\\harii\\AppData\\Local\\Temp\\ipykernel_10744\\3804933551.py:21: SettingWithCopyWarning: \n",
      "A value is trying to be set on a copy of a slice from a DataFrame\n",
      "\n",
      "See the caveats in the documentation: https://pandas.pydata.org/pandas-docs/stable/user_guide/indexing.html#returning-a-view-versus-a-copy\n",
      "  data_train1[col][(data_train1[col] < lower_bound) | (data_train1[col] > upper_bound)] = data1[col].mode()[0]\n",
      "C:\\Users\\harii\\AppData\\Local\\Temp\\ipykernel_10744\\3804933551.py:21: SettingWithCopyWarning: \n",
      "A value is trying to be set on a copy of a slice from a DataFrame\n",
      "\n",
      "See the caveats in the documentation: https://pandas.pydata.org/pandas-docs/stable/user_guide/indexing.html#returning-a-view-versus-a-copy\n",
      "  data_train1[col][(data_train1[col] < lower_bound) | (data_train1[col] > upper_bound)] = data1[col].mode()[0]\n",
      "C:\\Users\\harii\\AppData\\Local\\Temp\\ipykernel_10744\\3804933551.py:21: SettingWithCopyWarning: \n",
      "A value is trying to be set on a copy of a slice from a DataFrame\n",
      "\n",
      "See the caveats in the documentation: https://pandas.pydata.org/pandas-docs/stable/user_guide/indexing.html#returning-a-view-versus-a-copy\n",
      "  data_train1[col][(data_train1[col] < lower_bound) | (data_train1[col] > upper_bound)] = data1[col].mode()[0]\n",
      "C:\\Users\\harii\\AppData\\Local\\Temp\\ipykernel_10744\\3804933551.py:21: SettingWithCopyWarning: \n",
      "A value is trying to be set on a copy of a slice from a DataFrame\n",
      "\n",
      "See the caveats in the documentation: https://pandas.pydata.org/pandas-docs/stable/user_guide/indexing.html#returning-a-view-versus-a-copy\n",
      "  data_train1[col][(data_train1[col] < lower_bound) | (data_train1[col] > upper_bound)] = data1[col].mode()[0]\n",
      "C:\\Users\\harii\\AppData\\Local\\Temp\\ipykernel_10744\\3804933551.py:21: SettingWithCopyWarning: \n",
      "A value is trying to be set on a copy of a slice from a DataFrame\n",
      "\n",
      "See the caveats in the documentation: https://pandas.pydata.org/pandas-docs/stable/user_guide/indexing.html#returning-a-view-versus-a-copy\n",
      "  data_train1[col][(data_train1[col] < lower_bound) | (data_train1[col] > upper_bound)] = data1[col].mode()[0]\n",
      "C:\\Users\\harii\\AppData\\Local\\Temp\\ipykernel_10744\\3804933551.py:21: SettingWithCopyWarning: \n",
      "A value is trying to be set on a copy of a slice from a DataFrame\n",
      "\n",
      "See the caveats in the documentation: https://pandas.pydata.org/pandas-docs/stable/user_guide/indexing.html#returning-a-view-versus-a-copy\n",
      "  data_train1[col][(data_train1[col] < lower_bound) | (data_train1[col] > upper_bound)] = data1[col].mode()[0]\n",
      "C:\\Users\\harii\\AppData\\Local\\Temp\\ipykernel_10744\\3804933551.py:21: SettingWithCopyWarning: \n",
      "A value is trying to be set on a copy of a slice from a DataFrame\n",
      "\n",
      "See the caveats in the documentation: https://pandas.pydata.org/pandas-docs/stable/user_guide/indexing.html#returning-a-view-versus-a-copy\n",
      "  data_train1[col][(data_train1[col] < lower_bound) | (data_train1[col] > upper_bound)] = data1[col].mode()[0]\n",
      "C:\\Users\\harii\\AppData\\Local\\Temp\\ipykernel_10744\\3804933551.py:21: SettingWithCopyWarning: \n",
      "A value is trying to be set on a copy of a slice from a DataFrame\n",
      "\n",
      "See the caveats in the documentation: https://pandas.pydata.org/pandas-docs/stable/user_guide/indexing.html#returning-a-view-versus-a-copy\n",
      "  data_train1[col][(data_train1[col] < lower_bound) | (data_train1[col] > upper_bound)] = data1[col].mode()[0]\n",
      "C:\\Users\\harii\\AppData\\Local\\Temp\\ipykernel_10744\\3804933551.py:21: SettingWithCopyWarning: \n",
      "A value is trying to be set on a copy of a slice from a DataFrame\n",
      "\n",
      "See the caveats in the documentation: https://pandas.pydata.org/pandas-docs/stable/user_guide/indexing.html#returning-a-view-versus-a-copy\n",
      "  data_train1[col][(data_train1[col] < lower_bound) | (data_train1[col] > upper_bound)] = data1[col].mode()[0]\n",
      "C:\\Users\\harii\\AppData\\Local\\Temp\\ipykernel_10744\\3804933551.py:21: SettingWithCopyWarning: \n",
      "A value is trying to be set on a copy of a slice from a DataFrame\n",
      "\n",
      "See the caveats in the documentation: https://pandas.pydata.org/pandas-docs/stable/user_guide/indexing.html#returning-a-view-versus-a-copy\n",
      "  data_train1[col][(data_train1[col] < lower_bound) | (data_train1[col] > upper_bound)] = data1[col].mode()[0]\n",
      "C:\\Users\\harii\\AppData\\Local\\Temp\\ipykernel_10744\\3804933551.py:21: SettingWithCopyWarning: \n",
      "A value is trying to be set on a copy of a slice from a DataFrame\n",
      "\n",
      "See the caveats in the documentation: https://pandas.pydata.org/pandas-docs/stable/user_guide/indexing.html#returning-a-view-versus-a-copy\n",
      "  data_train1[col][(data_train1[col] < lower_bound) | (data_train1[col] > upper_bound)] = data1[col].mode()[0]\n",
      "C:\\Users\\harii\\AppData\\Local\\Temp\\ipykernel_10744\\3804933551.py:21: SettingWithCopyWarning: \n",
      "A value is trying to be set on a copy of a slice from a DataFrame\n",
      "\n",
      "See the caveats in the documentation: https://pandas.pydata.org/pandas-docs/stable/user_guide/indexing.html#returning-a-view-versus-a-copy\n",
      "  data_train1[col][(data_train1[col] < lower_bound) | (data_train1[col] > upper_bound)] = data1[col].mode()[0]\n",
      "C:\\Users\\harii\\AppData\\Local\\Temp\\ipykernel_10744\\3804933551.py:21: SettingWithCopyWarning: \n",
      "A value is trying to be set on a copy of a slice from a DataFrame\n",
      "\n",
      "See the caveats in the documentation: https://pandas.pydata.org/pandas-docs/stable/user_guide/indexing.html#returning-a-view-versus-a-copy\n",
      "  data_train1[col][(data_train1[col] < lower_bound) | (data_train1[col] > upper_bound)] = data1[col].mode()[0]\n",
      "C:\\Users\\harii\\AppData\\Local\\Temp\\ipykernel_10744\\3804933551.py:21: SettingWithCopyWarning: \n",
      "A value is trying to be set on a copy of a slice from a DataFrame\n",
      "\n",
      "See the caveats in the documentation: https://pandas.pydata.org/pandas-docs/stable/user_guide/indexing.html#returning-a-view-versus-a-copy\n",
      "  data_train1[col][(data_train1[col] < lower_bound) | (data_train1[col] > upper_bound)] = data1[col].mode()[0]\n",
      "C:\\Users\\harii\\AppData\\Local\\Temp\\ipykernel_10744\\3804933551.py:21: SettingWithCopyWarning: \n",
      "A value is trying to be set on a copy of a slice from a DataFrame\n",
      "\n",
      "See the caveats in the documentation: https://pandas.pydata.org/pandas-docs/stable/user_guide/indexing.html#returning-a-view-versus-a-copy\n",
      "  data_train1[col][(data_train1[col] < lower_bound) | (data_train1[col] > upper_bound)] = data1[col].mode()[0]\n",
      "C:\\Users\\harii\\AppData\\Local\\Temp\\ipykernel_10744\\3804933551.py:21: SettingWithCopyWarning: \n",
      "A value is trying to be set on a copy of a slice from a DataFrame\n",
      "\n",
      "See the caveats in the documentation: https://pandas.pydata.org/pandas-docs/stable/user_guide/indexing.html#returning-a-view-versus-a-copy\n",
      "  data_train1[col][(data_train1[col] < lower_bound) | (data_train1[col] > upper_bound)] = data1[col].mode()[0]\n",
      "C:\\Users\\harii\\AppData\\Local\\Temp\\ipykernel_10744\\3804933551.py:21: SettingWithCopyWarning: \n",
      "A value is trying to be set on a copy of a slice from a DataFrame\n",
      "\n",
      "See the caveats in the documentation: https://pandas.pydata.org/pandas-docs/stable/user_guide/indexing.html#returning-a-view-versus-a-copy\n",
      "  data_train1[col][(data_train1[col] < lower_bound) | (data_train1[col] > upper_bound)] = data1[col].mode()[0]\n",
      "C:\\Users\\harii\\AppData\\Local\\Temp\\ipykernel_10744\\3804933551.py:21: SettingWithCopyWarning: \n",
      "A value is trying to be set on a copy of a slice from a DataFrame\n",
      "\n",
      "See the caveats in the documentation: https://pandas.pydata.org/pandas-docs/stable/user_guide/indexing.html#returning-a-view-versus-a-copy\n",
      "  data_train1[col][(data_train1[col] < lower_bound) | (data_train1[col] > upper_bound)] = data1[col].mode()[0]\n",
      "C:\\Users\\harii\\AppData\\Local\\Temp\\ipykernel_10744\\3804933551.py:21: SettingWithCopyWarning: \n",
      "A value is trying to be set on a copy of a slice from a DataFrame\n",
      "\n",
      "See the caveats in the documentation: https://pandas.pydata.org/pandas-docs/stable/user_guide/indexing.html#returning-a-view-versus-a-copy\n",
      "  data_train1[col][(data_train1[col] < lower_bound) | (data_train1[col] > upper_bound)] = data1[col].mode()[0]\n",
      "C:\\Users\\harii\\AppData\\Local\\Temp\\ipykernel_10744\\3804933551.py:21: SettingWithCopyWarning: \n",
      "A value is trying to be set on a copy of a slice from a DataFrame\n",
      "\n",
      "See the caveats in the documentation: https://pandas.pydata.org/pandas-docs/stable/user_guide/indexing.html#returning-a-view-versus-a-copy\n",
      "  data_train1[col][(data_train1[col] < lower_bound) | (data_train1[col] > upper_bound)] = data1[col].mode()[0]\n",
      "C:\\Users\\harii\\AppData\\Local\\Temp\\ipykernel_10744\\3804933551.py:21: SettingWithCopyWarning: \n",
      "A value is trying to be set on a copy of a slice from a DataFrame\n",
      "\n",
      "See the caveats in the documentation: https://pandas.pydata.org/pandas-docs/stable/user_guide/indexing.html#returning-a-view-versus-a-copy\n",
      "  data_train1[col][(data_train1[col] < lower_bound) | (data_train1[col] > upper_bound)] = data1[col].mode()[0]\n",
      "C:\\Users\\harii\\AppData\\Local\\Temp\\ipykernel_10744\\3804933551.py:21: SettingWithCopyWarning: \n",
      "A value is trying to be set on a copy of a slice from a DataFrame\n",
      "\n",
      "See the caveats in the documentation: https://pandas.pydata.org/pandas-docs/stable/user_guide/indexing.html#returning-a-view-versus-a-copy\n",
      "  data_train1[col][(data_train1[col] < lower_bound) | (data_train1[col] > upper_bound)] = data1[col].mode()[0]\n",
      "C:\\Users\\harii\\AppData\\Local\\Temp\\ipykernel_10744\\3804933551.py:21: SettingWithCopyWarning: \n",
      "A value is trying to be set on a copy of a slice from a DataFrame\n",
      "\n",
      "See the caveats in the documentation: https://pandas.pydata.org/pandas-docs/stable/user_guide/indexing.html#returning-a-view-versus-a-copy\n",
      "  data_train1[col][(data_train1[col] < lower_bound) | (data_train1[col] > upper_bound)] = data1[col].mode()[0]\n",
      "C:\\Users\\harii\\AppData\\Local\\Temp\\ipykernel_10744\\3804933551.py:21: SettingWithCopyWarning: \n",
      "A value is trying to be set on a copy of a slice from a DataFrame\n",
      "\n",
      "See the caveats in the documentation: https://pandas.pydata.org/pandas-docs/stable/user_guide/indexing.html#returning-a-view-versus-a-copy\n",
      "  data_train1[col][(data_train1[col] < lower_bound) | (data_train1[col] > upper_bound)] = data1[col].mode()[0]\n",
      "C:\\Users\\harii\\AppData\\Local\\Temp\\ipykernel_10744\\3804933551.py:21: SettingWithCopyWarning: \n",
      "A value is trying to be set on a copy of a slice from a DataFrame\n",
      "\n",
      "See the caveats in the documentation: https://pandas.pydata.org/pandas-docs/stable/user_guide/indexing.html#returning-a-view-versus-a-copy\n",
      "  data_train1[col][(data_train1[col] < lower_bound) | (data_train1[col] > upper_bound)] = data1[col].mode()[0]\n",
      "C:\\Users\\harii\\AppData\\Local\\Temp\\ipykernel_10744\\3804933551.py:21: SettingWithCopyWarning: \n",
      "A value is trying to be set on a copy of a slice from a DataFrame\n",
      "\n",
      "See the caveats in the documentation: https://pandas.pydata.org/pandas-docs/stable/user_guide/indexing.html#returning-a-view-versus-a-copy\n",
      "  data_train1[col][(data_train1[col] < lower_bound) | (data_train1[col] > upper_bound)] = data1[col].mode()[0]\n",
      "C:\\Users\\harii\\AppData\\Local\\Temp\\ipykernel_10744\\3804933551.py:21: SettingWithCopyWarning: \n",
      "A value is trying to be set on a copy of a slice from a DataFrame\n",
      "\n",
      "See the caveats in the documentation: https://pandas.pydata.org/pandas-docs/stable/user_guide/indexing.html#returning-a-view-versus-a-copy\n",
      "  data_train1[col][(data_train1[col] < lower_bound) | (data_train1[col] > upper_bound)] = data1[col].mode()[0]\n",
      "C:\\Users\\harii\\AppData\\Local\\Temp\\ipykernel_10744\\3804933551.py:21: SettingWithCopyWarning: \n",
      "A value is trying to be set on a copy of a slice from a DataFrame\n",
      "\n",
      "See the caveats in the documentation: https://pandas.pydata.org/pandas-docs/stable/user_guide/indexing.html#returning-a-view-versus-a-copy\n",
      "  data_train1[col][(data_train1[col] < lower_bound) | (data_train1[col] > upper_bound)] = data1[col].mode()[0]\n",
      "C:\\Users\\harii\\AppData\\Local\\Temp\\ipykernel_10744\\3804933551.py:21: SettingWithCopyWarning: \n",
      "A value is trying to be set on a copy of a slice from a DataFrame\n",
      "\n",
      "See the caveats in the documentation: https://pandas.pydata.org/pandas-docs/stable/user_guide/indexing.html#returning-a-view-versus-a-copy\n",
      "  data_train1[col][(data_train1[col] < lower_bound) | (data_train1[col] > upper_bound)] = data1[col].mode()[0]\n",
      "C:\\Users\\harii\\AppData\\Local\\Temp\\ipykernel_10744\\3804933551.py:21: SettingWithCopyWarning: \n",
      "A value is trying to be set on a copy of a slice from a DataFrame\n",
      "\n",
      "See the caveats in the documentation: https://pandas.pydata.org/pandas-docs/stable/user_guide/indexing.html#returning-a-view-versus-a-copy\n",
      "  data_train1[col][(data_train1[col] < lower_bound) | (data_train1[col] > upper_bound)] = data1[col].mode()[0]\n",
      "C:\\Users\\harii\\AppData\\Local\\Temp\\ipykernel_10744\\3804933551.py:21: SettingWithCopyWarning: \n",
      "A value is trying to be set on a copy of a slice from a DataFrame\n",
      "\n",
      "See the caveats in the documentation: https://pandas.pydata.org/pandas-docs/stable/user_guide/indexing.html#returning-a-view-versus-a-copy\n",
      "  data_train1[col][(data_train1[col] < lower_bound) | (data_train1[col] > upper_bound)] = data1[col].mode()[0]\n",
      "C:\\Users\\harii\\AppData\\Local\\Temp\\ipykernel_10744\\3804933551.py:21: SettingWithCopyWarning: \n",
      "A value is trying to be set on a copy of a slice from a DataFrame\n",
      "\n",
      "See the caveats in the documentation: https://pandas.pydata.org/pandas-docs/stable/user_guide/indexing.html#returning-a-view-versus-a-copy\n",
      "  data_train1[col][(data_train1[col] < lower_bound) | (data_train1[col] > upper_bound)] = data1[col].mode()[0]\n",
      "C:\\Users\\harii\\AppData\\Local\\Temp\\ipykernel_10744\\3804933551.py:21: SettingWithCopyWarning: \n",
      "A value is trying to be set on a copy of a slice from a DataFrame\n",
      "\n",
      "See the caveats in the documentation: https://pandas.pydata.org/pandas-docs/stable/user_guide/indexing.html#returning-a-view-versus-a-copy\n",
      "  data_train1[col][(data_train1[col] < lower_bound) | (data_train1[col] > upper_bound)] = data1[col].mode()[0]\n",
      "C:\\Users\\harii\\AppData\\Local\\Temp\\ipykernel_10744\\3804933551.py:21: SettingWithCopyWarning: \n",
      "A value is trying to be set on a copy of a slice from a DataFrame\n",
      "\n",
      "See the caveats in the documentation: https://pandas.pydata.org/pandas-docs/stable/user_guide/indexing.html#returning-a-view-versus-a-copy\n",
      "  data_train1[col][(data_train1[col] < lower_bound) | (data_train1[col] > upper_bound)] = data1[col].mode()[0]\n"
     ]
    },
    {
     "data": {
      "text/plain": [
       "(256, 81)"
      ]
     },
     "execution_count": 181,
     "metadata": {},
     "output_type": "execute_result"
    }
   ],
   "source": [
    "numerical_columns = data_train.select_dtypes(include=['float64', 'int64']).columns\n",
    "data_train1=data_train.copy()\n",
    "for col in numerical_columns:\n",
    "    Q1 = data_train1[col].quantile(0.25)\n",
    "    Q3 = data_train1[col].quantile(0.75)\n",
    "    IQR = Q3 - Q1\n",
    "    lower_bound = Q1 - 1.5 * IQR\n",
    "    upper_bound = Q3 + 1.5 * IQR\n",
    "    data_train1[col][(data_train1[col] < lower_bound) | (data_train1[col] > upper_bound)] = data1[col].mode()[0]\n",
    "\n",
    "    \n",
    "data_train1.shape"
   ]
  },
  {
   "cell_type": "code",
   "execution_count": 182,
   "id": "4bc7efc3",
   "metadata": {},
   "outputs": [
    {
     "name": "stdout",
     "output_type": "stream",
     "text": [
      "MSZoning         0\n",
      "Street           0\n",
      "LotShape         0\n",
      "LandContour      0\n",
      "Utilities        0\n",
      "LotConfig        0\n",
      "LandSlope        0\n",
      "Neighborhood     0\n",
      "Condition1       0\n",
      "Condition2       0\n",
      "BldgType         0\n",
      "HouseStyle       0\n",
      "RoofStyle        0\n",
      "RoofMatl         0\n",
      "Exterior1st      0\n",
      "Exterior2nd      0\n",
      "MasVnrType       0\n",
      "ExterQual        0\n",
      "ExterCond        0\n",
      "Foundation       0\n",
      "BsmtQual         0\n",
      "BsmtCond         0\n",
      "BsmtExposure     0\n",
      "BsmtFinType1     0\n",
      "BsmtFinType2     0\n",
      "Heating          0\n",
      "HeatingQC        0\n",
      "CentralAir       0\n",
      "Electrical       0\n",
      "KitchenQual      0\n",
      "Functional       0\n",
      "GarageType       0\n",
      "GarageFinish     0\n",
      "GarageQual       0\n",
      "GarageCond       0\n",
      "PavedDrive       0\n",
      "SaleType         0\n",
      "SaleCondition    0\n",
      "dtype: int64\n"
     ]
    }
   ],
   "source": [
    "data_train2=data_train1.drop(columns=['PoolQC','MiscFeature','Alley','Fence','FireplaceQu'])\n",
    "for col in categorical_columns:\n",
    "    mode_value = data2[col].mode()[0]\n",
    "    data_train2[col].fillna(mode_value, inplace=True)\n",
    "\n",
    "print(data_train2[categorical_columns].isna().sum())"
   ]
  },
  {
   "cell_type": "code",
   "execution_count": 185,
   "id": "b87cabde",
   "metadata": {},
   "outputs": [
    {
     "name": "stdout",
     "output_type": "stream",
     "text": [
      "Id               0\n",
      "MSSubClass       0\n",
      "LotFrontage      0\n",
      "LotArea          0\n",
      "OverallQual      0\n",
      "OverallCond      0\n",
      "YearBuilt        0\n",
      "YearRemodAdd     0\n",
      "MasVnrArea       0\n",
      "BsmtFinSF1       0\n",
      "BsmtFinSF2       0\n",
      "BsmtUnfSF        0\n",
      "TotalBsmtSF      0\n",
      "1stFlrSF         0\n",
      "2ndFlrSF         0\n",
      "LowQualFinSF     0\n",
      "GrLivArea        0\n",
      "BsmtFullBath     0\n",
      "BsmtHalfBath     0\n",
      "FullBath         0\n",
      "HalfBath         0\n",
      "BedroomAbvGr     0\n",
      "KitchenAbvGr     0\n",
      "TotRmsAbvGrd     0\n",
      "Fireplaces       0\n",
      "GarageYrBlt      0\n",
      "GarageCars       0\n",
      "GarageArea       0\n",
      "WoodDeckSF       0\n",
      "OpenPorchSF      0\n",
      "EnclosedPorch    0\n",
      "3SsnPorch        0\n",
      "ScreenPorch      0\n",
      "PoolArea         0\n",
      "MiscVal          0\n",
      "MoSold           0\n",
      "YrSold           0\n",
      "SalePrice        0\n",
      "dtype: int64\n"
     ]
    }
   ],
   "source": [
    "data_train3=data_train2.copy()\n",
    "for col in numerical_columns:\n",
    "    mode_value = data_train3[col].mode()[0]\n",
    "    data_train3[col].fillna(mode_value, inplace=True)\n",
    "\n",
    "print(data_train3[numerical_columns].isna().sum())"
   ]
  },
  {
   "cell_type": "code",
   "execution_count": 186,
   "id": "e17f77f3",
   "metadata": {},
   "outputs": [],
   "source": [
    "# #drop rows with null values\n",
    "# categorical_columns = data_train3.select_dtypes(include=['object']).columns\n",
    "# data_train3=data_train3.dropna(subset=categorical_columns, inplace=False)\n",
    "# data_train3.shape"
   ]
  },
  {
   "cell_type": "code",
   "execution_count": 187,
   "id": "7d446dda",
   "metadata": {},
   "outputs": [
    {
     "name": "stdout",
     "output_type": "stream",
     "text": [
      "<class 'pandas.core.frame.DataFrame'>\n",
      "RangeIndex: 256 entries, 0 to 255\n",
      "Data columns (total 76 columns):\n",
      " #   Column         Non-Null Count  Dtype  \n",
      "---  ------         --------------  -----  \n",
      " 0   Id             256 non-null    int64  \n",
      " 1   MSSubClass     256 non-null    int64  \n",
      " 2   MSZoning       256 non-null    object \n",
      " 3   LotFrontage    256 non-null    float64\n",
      " 4   LotArea        256 non-null    float64\n",
      " 5   Street         256 non-null    object \n",
      " 6   LotShape       256 non-null    object \n",
      " 7   LandContour    256 non-null    object \n",
      " 8   Utilities      256 non-null    object \n",
      " 9   LotConfig      256 non-null    object \n",
      " 10  LandSlope      256 non-null    object \n",
      " 11  Neighborhood   256 non-null    object \n",
      " 12  Condition1     256 non-null    object \n",
      " 13  Condition2     256 non-null    object \n",
      " 14  BldgType       256 non-null    object \n",
      " 15  HouseStyle     256 non-null    object \n",
      " 16  OverallQual    256 non-null    int64  \n",
      " 17  OverallCond    256 non-null    int64  \n",
      " 18  YearBuilt      256 non-null    int64  \n",
      " 19  YearRemodAdd   256 non-null    int64  \n",
      " 20  RoofStyle      256 non-null    object \n",
      " 21  RoofMatl       256 non-null    object \n",
      " 22  Exterior1st    256 non-null    object \n",
      " 23  Exterior2nd    256 non-null    object \n",
      " 24  MasVnrType     256 non-null    object \n",
      " 25  MasVnrArea     256 non-null    float64\n",
      " 26  ExterQual      256 non-null    object \n",
      " 27  ExterCond      256 non-null    object \n",
      " 28  Foundation     256 non-null    object \n",
      " 29  BsmtQual       256 non-null    object \n",
      " 30  BsmtCond       256 non-null    object \n",
      " 31  BsmtExposure   256 non-null    object \n",
      " 32  BsmtFinType1   256 non-null    object \n",
      " 33  BsmtFinSF1     256 non-null    int64  \n",
      " 34  BsmtFinType2   256 non-null    object \n",
      " 35  BsmtFinSF2     256 non-null    int64  \n",
      " 36  BsmtUnfSF      256 non-null    int64  \n",
      " 37  TotalBsmtSF    256 non-null    float64\n",
      " 38  Heating        256 non-null    object \n",
      " 39  HeatingQC      256 non-null    object \n",
      " 40  CentralAir     256 non-null    object \n",
      " 41  Electrical     256 non-null    object \n",
      " 42  1stFlrSF       256 non-null    int64  \n",
      " 43  2ndFlrSF       256 non-null    int64  \n",
      " 44  LowQualFinSF   256 non-null    int64  \n",
      " 45  GrLivArea      256 non-null    int64  \n",
      " 46  BsmtFullBath   256 non-null    int64  \n",
      " 47  BsmtHalfBath   256 non-null    int64  \n",
      " 48  FullBath       256 non-null    int64  \n",
      " 49  HalfBath       256 non-null    int64  \n",
      " 50  BedroomAbvGr   256 non-null    int64  \n",
      " 51  KitchenAbvGr   256 non-null    int64  \n",
      " 52  KitchenQual    256 non-null    object \n",
      " 53  TotRmsAbvGrd   256 non-null    int64  \n",
      " 54  Functional     256 non-null    object \n",
      " 55  Fireplaces     256 non-null    int64  \n",
      " 56  GarageType     256 non-null    object \n",
      " 57  GarageYrBlt    256 non-null    float64\n",
      " 58  GarageFinish   256 non-null    object \n",
      " 59  GarageCars     256 non-null    int64  \n",
      " 60  GarageArea     256 non-null    int64  \n",
      " 61  GarageQual     256 non-null    object \n",
      " 62  GarageCond     256 non-null    object \n",
      " 63  PavedDrive     256 non-null    object \n",
      " 64  WoodDeckSF     256 non-null    int64  \n",
      " 65  OpenPorchSF    256 non-null    int64  \n",
      " 66  EnclosedPorch  256 non-null    int64  \n",
      " 67  3SsnPorch      256 non-null    int64  \n",
      " 68  ScreenPorch    256 non-null    int64  \n",
      " 69  PoolArea       256 non-null    int64  \n",
      " 70  MiscVal        256 non-null    int64  \n",
      " 71  MoSold         256 non-null    int64  \n",
      " 72  YrSold         256 non-null    int64  \n",
      " 73  SaleType       256 non-null    object \n",
      " 74  SaleCondition  256 non-null    object \n",
      " 75  SalePrice      256 non-null    int64  \n",
      "dtypes: float64(5), int64(33), object(38)\n",
      "memory usage: 152.1+ KB\n"
     ]
    }
   ],
   "source": [
    "data_train3.info()\n"
   ]
  },
  {
   "cell_type": "code",
   "execution_count": 188,
   "id": "e1990023",
   "metadata": {},
   "outputs": [
    {
     "data": {
      "text/plain": [
       "(256, 195)"
      ]
     },
     "execution_count": 188,
     "metadata": {},
     "output_type": "execute_result"
    }
   ],
   "source": [
    "categorical_columns = data_train3.select_dtypes(include=['object']).columns\n",
    "data_train4=pd.get_dummies(data_train3,columns=categorical_columns,drop_first=True)\n",
    "dependant_col='SalePrice'\n",
    "cols=[col for col in data_train4.columns if col != dependant_col]\n",
    "cols=cols+[dependant_col]\n",
    "data_train4=data_train4[cols]\n",
    "data_train4.shape"
   ]
  },
  {
   "cell_type": "code",
   "execution_count": 189,
   "id": "60c201b0",
   "metadata": {},
   "outputs": [
    {
     "data": {
      "text/plain": [
       "(256, 194)"
      ]
     },
     "execution_count": 189,
     "metadata": {},
     "output_type": "execute_result"
    }
   ],
   "source": [
    "x_test = data_train4.iloc[:,:-1].values\n",
    "y_test = data_train4.iloc[:,-1].values\n",
    "x_test=pd.DataFrame(x_test)\n",
    "dependant_col='SalePrice'\n",
    "cols=[col for col in data_train4.columns if col != 'SalePrice']\n",
    "x_test.columns=cols\n",
    "x_test.shape"
   ]
  },
  {
   "cell_type": "code",
   "execution_count": 191,
   "id": "9991680c",
   "metadata": {},
   "outputs": [
    {
     "name": "stderr",
     "output_type": "stream",
     "text": [
      "C:\\ProgramData\\Anaconda3\\lib\\site-packages\\statsmodels\\regression\\linear_model.py:1736: RuntimeWarning: invalid value encountered in scalar divide\n",
      "  return 1 - self.ssr/self.centered_tss\n"
     ]
    },
    {
     "data": {
      "text/html": [
       "<div>\n",
       "<style scoped>\n",
       "    .dataframe tbody tr th:only-of-type {\n",
       "        vertical-align: middle;\n",
       "    }\n",
       "\n",
       "    .dataframe tbody tr th {\n",
       "        vertical-align: top;\n",
       "    }\n",
       "\n",
       "    .dataframe thead th {\n",
       "        text-align: right;\n",
       "    }\n",
       "</style>\n",
       "<table border=\"1\" class=\"dataframe\">\n",
       "  <thead>\n",
       "    <tr style=\"text-align: right;\">\n",
       "      <th></th>\n",
       "      <th>variable</th>\n",
       "      <th>vif</th>\n",
       "    </tr>\n",
       "  </thead>\n",
       "  <tbody>\n",
       "    <tr>\n",
       "      <th>0</th>\n",
       "      <td>Id</td>\n",
       "      <td>2.170289</td>\n",
       "    </tr>\n",
       "    <tr>\n",
       "      <th>1</th>\n",
       "      <td>MSSubClass</td>\n",
       "      <td>6.409208</td>\n",
       "    </tr>\n",
       "    <tr>\n",
       "      <th>2</th>\n",
       "      <td>LotFrontage</td>\n",
       "      <td>3.202354</td>\n",
       "    </tr>\n",
       "    <tr>\n",
       "      <th>3</th>\n",
       "      <td>LotArea</td>\n",
       "      <td>6.675718</td>\n",
       "    </tr>\n",
       "    <tr>\n",
       "      <th>4</th>\n",
       "      <td>OverallQual</td>\n",
       "      <td>8.397072</td>\n",
       "    </tr>\n",
       "    <tr>\n",
       "      <th>...</th>\n",
       "      <td>...</td>\n",
       "      <td>...</td>\n",
       "    </tr>\n",
       "    <tr>\n",
       "      <th>142</th>\n",
       "      <td>PavedDrive_P</td>\n",
       "      <td>3.727187</td>\n",
       "    </tr>\n",
       "    <tr>\n",
       "      <th>143</th>\n",
       "      <td>PavedDrive_Y</td>\n",
       "      <td>3.917157</td>\n",
       "    </tr>\n",
       "    <tr>\n",
       "      <th>144</th>\n",
       "      <td>SaleType_CWD</td>\n",
       "      <td>4.066604</td>\n",
       "    </tr>\n",
       "    <tr>\n",
       "      <th>145</th>\n",
       "      <td>SaleType_New</td>\n",
       "      <td>2.352985</td>\n",
       "    </tr>\n",
       "    <tr>\n",
       "      <th>146</th>\n",
       "      <td>SaleCondition_Family</td>\n",
       "      <td>3.338701</td>\n",
       "    </tr>\n",
       "  </tbody>\n",
       "</table>\n",
       "<p>147 rows × 2 columns</p>\n",
       "</div>"
      ],
      "text/plain": [
       "                 variable       vif\n",
       "0                      Id  2.170289\n",
       "1              MSSubClass  6.409208\n",
       "2             LotFrontage  3.202354\n",
       "3                 LotArea  6.675718\n",
       "4             OverallQual  8.397072\n",
       "..                    ...       ...\n",
       "142          PavedDrive_P  3.727187\n",
       "143          PavedDrive_Y  3.917157\n",
       "144          SaleType_CWD  4.066604\n",
       "145          SaleType_New  2.352985\n",
       "146  SaleCondition_Family  3.338701\n",
       "\n",
       "[147 rows x 2 columns]"
      ]
     },
     "execution_count": 191,
     "metadata": {},
     "output_type": "execute_result"
    }
   ],
   "source": [
    "from statsmodels.stats.outliers_influence import \\\n",
    "variance_inflation_factor\n",
    "vif = pd.DataFrame()\n",
    "vif['variable']= x_test.columns\n",
    "\n",
    "vif['vif'] = [variance_inflation_factor(x_test.values,i)\n",
    " for i in range(x_test.shape[1])]\n",
    "\n",
    "vif"
   ]
  },
  {
   "cell_type": "code",
   "execution_count": 190,
   "id": "667c623a",
   "metadata": {},
   "outputs": [
    {
     "data": {
      "text/plain": [
       "(256, 147)"
      ]
     },
     "execution_count": 190,
     "metadata": {},
     "output_type": "execute_result"
    }
   ],
   "source": [
    "correlation_matrix = x_test.corr()\n",
    "highly_correlated_vars = set()\n",
    "for i in range(len(correlation_matrix.columns)):\n",
    "    for j in range(i):\n",
    "        if abs(correlation_matrix.iloc[i, j]) > 0.6:\n",
    "            colname = correlation_matrix.columns[i]\n",
    "            highly_correlated_vars.add(colname)\n",
    "\n",
    "\n",
    "x_test = x_test.drop(columns=highly_correlated_vars)\n",
    "x_test.shape"
   ]
  },
  {
   "cell_type": "code",
   "execution_count": 192,
   "id": "23bb1ac7",
   "metadata": {},
   "outputs": [
    {
     "name": "stdout",
     "output_type": "stream",
     "text": [
      "(1460, 186) (256, 147)\n",
      "(1460, 142) (256, 142)\n"
     ]
    }
   ],
   "source": [
    "common_columns = x_train.columns.intersection(x_test.columns)\n",
    "print(x_train.shape,x_test.shape)\n",
    "x_train = x_train[common_columns]\n",
    "x_test = x_test[common_columns]\n",
    "print(x_train.shape,x_test.shape)"
   ]
  },
  {
   "cell_type": "code",
   "execution_count": 193,
   "id": "1bf4c9a5",
   "metadata": {},
   "outputs": [
    {
     "data": {
      "text/plain": [
       "LinearRegression()"
      ]
     },
     "execution_count": 193,
     "metadata": {},
     "output_type": "execute_result"
    }
   ],
   "source": [
    "from sklearn.linear_model import LinearRegression\n",
    "reg = LinearRegression()\n",
    "\n",
    "reg.fit(x_train,y_train)"
   ]
  },
  {
   "cell_type": "code",
   "execution_count": 194,
   "id": "708b0676",
   "metadata": {},
   "outputs": [],
   "source": [
    "\n",
    "y_pred = reg.predict(x_test)"
   ]
  },
  {
   "cell_type": "code",
   "execution_count": 198,
   "id": "c90f378d",
   "metadata": {},
   "outputs": [
    {
     "data": {
      "text/plain": [
       "0.8006740128921359"
      ]
     },
     "execution_count": 198,
     "metadata": {},
     "output_type": "execute_result"
    }
   ],
   "source": [
    "from sklearn.metrics import r2_score, mean_squared_error\n",
    "r2_score(y_test,y_pred)\n"
   ]
  },
  {
   "cell_type": "code",
   "execution_count": 199,
   "id": "94264eb8",
   "metadata": {},
   "outputs": [
    {
     "data": {
      "text/plain": [
       "26233.773077709975"
      ]
     },
     "execution_count": 199,
     "metadata": {},
     "output_type": "execute_result"
    }
   ],
   "source": [
    "import math\n",
    "math.sqrt(mean_squared_error(y_test,y_pred))\n"
   ]
  },
  {
   "cell_type": "code",
   "execution_count": null,
   "id": "586177f5",
   "metadata": {},
   "outputs": [],
   "source": []
  }
 ],
 "metadata": {
  "kernelspec": {
   "display_name": "Python 3 (ipykernel)",
   "language": "python",
   "name": "python3"
  },
  "language_info": {
   "codemirror_mode": {
    "name": "ipython",
    "version": 3
   },
   "file_extension": ".py",
   "mimetype": "text/x-python",
   "name": "python",
   "nbconvert_exporter": "python",
   "pygments_lexer": "ipython3",
   "version": "3.10.6"
  }
 },
 "nbformat": 4,
 "nbformat_minor": 5
}
